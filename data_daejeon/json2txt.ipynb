{
 "cells": [
  {
   "cell_type": "code",
   "execution_count": 4,
   "metadata": {},
   "outputs": [],
   "source": [
    "import json\n",
    "\n",
    "def json2txt(abs_dir, json_dir, txt_dir):\n",
    "    # 구조\n",
    "    # 파일명 boundingBox1,boundingBox2,boundingBox3,boundingBox4,class boundingBox1,boundingBox2,boundingBox3,boundingBox4,class ...\n",
    "    with open(json_dir, \"r\") as json_file:\n",
    "        loaded_json=json.load(json_file)\n",
    "\n",
    "    images = loaded_json['assets']\n",
    "    f = open(txt_dir, 'w')\n",
    "\n",
    "    for image in images:\n",
    "        path = str(abs_dir +image['image']['path'][1:]+' ')\n",
    "        info = ''\n",
    "        for obj in image['region']:\n",
    "            bbox = obj['boundingBox']\n",
    "            info = info+str(int(bbox[0]))+','+str(int(bbox[1]))+','+str(int(bbox[2]))+','+str(int(bbox[3]))+','+str(int(obj['tags'][0])-1)+' '\n",
    "        f.write(path+info.strip()+'\\n')\n",
    "    f.close()"
   ]
  },
  {
   "cell_type": "code",
   "execution_count": 5,
   "metadata": {},
   "outputs": [],
   "source": [
    "json2txt('/home/hb/Desktop/YOLO/tensorflow-yolov4-tflite/data_daejeon', '/home/hb/Desktop/YOLO/tensorflow-yolov4-tflite/data_daejeon/kvd_sample.json', '/home/hb/Desktop/YOLO/tensorflow-yolov4-tflite/data_daejeon/daejeon.txt')"
   ]
  },
  {
   "cell_type": "code",
   "execution_count": 1,
   "metadata": {},
   "outputs": [
    {
     "data": {
      "text/plain": [
       "11"
      ]
     },
     "execution_count": 1,
     "metadata": {},
     "output_type": "execute_result"
    }
   ],
   "source": [
    "int(11.222)"
   ]
  }
 ],
 "metadata": {
  "kernelspec": {
   "display_name": "Python 3",
   "language": "python",
   "name": "python3"
  },
  "language_info": {
   "codemirror_mode": {
    "name": "ipython",
    "version": 3
   },
   "file_extension": ".py",
   "mimetype": "text/x-python",
   "name": "python",
   "nbconvert_exporter": "python",
   "pygments_lexer": "ipython3",
   "version": "3.7.0"
  }
 },
 "nbformat": 4,
 "nbformat_minor": 4
}
